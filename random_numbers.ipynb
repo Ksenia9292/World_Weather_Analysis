{
 "cells": [
  {
   "cell_type": "code",
   "execution_count": 1,
   "id": "61b25ec6",
   "metadata": {},
   "outputs": [],
   "source": [
    "import random"
   ]
  },
  {
   "cell_type": "code",
   "execution_count": 2,
   "id": "d5c82c60",
   "metadata": {},
   "outputs": [
    {
     "data": {
      "text/plain": [
       "57"
      ]
     },
     "execution_count": 2,
     "metadata": {},
     "output_type": "execute_result"
    }
   ],
   "source": [
    "random.randint(-90,90)"
   ]
  },
  {
   "cell_type": "code",
   "execution_count": 3,
   "id": "7032703a",
   "metadata": {},
   "outputs": [
    {
     "data": {
      "text/plain": [
       "0.7930613285566162"
      ]
     },
     "execution_count": 3,
     "metadata": {},
     "output_type": "execute_result"
    }
   ],
   "source": [
    "random.random()"
   ]
  },
  {
   "cell_type": "code",
   "execution_count": 6,
   "id": "3ed4d432",
   "metadata": {},
   "outputs": [],
   "source": [
    "x=1\n",
    "latitudes=[]\n",
    "while x<11:\n",
    "    random_lat = random.randint(-89,90)+random.random()\n",
    "    latitudes.append(random_lat)\n",
    "    x+=1"
   ]
  },
  {
   "cell_type": "code",
   "execution_count": 7,
   "id": "8e904cf8",
   "metadata": {},
   "outputs": [
    {
     "data": {
      "text/plain": [
       "[8.994797965334115,\n",
       " 48.038073959152364,\n",
       " 65.09263912083922,\n",
       " -68.03856111015294,\n",
       " -64.32909897485705,\n",
       " -43.478418548399446,\n",
       " 85.7519361831131,\n",
       " 89.55954063351706,\n",
       " -74.64370738846063,\n",
       " -72.66303803298824]"
      ]
     },
     "execution_count": 7,
     "metadata": {},
     "output_type": "execute_result"
    }
   ],
   "source": [
    "latitudes"
   ]
  },
  {
   "cell_type": "code",
   "execution_count": 8,
   "id": "72297e72",
   "metadata": {},
   "outputs": [
    {
     "data": {
      "text/plain": [
       "27"
      ]
     },
     "execution_count": 8,
     "metadata": {},
     "output_type": "execute_result"
    }
   ],
   "source": [
    "random.randrange(-90,90,1)"
   ]
  },
  {
   "cell_type": "code",
   "execution_count": 9,
   "id": "12bd593d",
   "metadata": {},
   "outputs": [],
   "source": [
    "import numpy as np"
   ]
  },
  {
   "cell_type": "code",
   "execution_count": 11,
   "id": "fd03a437",
   "metadata": {},
   "outputs": [
    {
     "data": {
      "text/plain": [
       "array([-38.46478177,  26.88700762,  70.64387151,  81.17047905,\n",
       "        66.34408021,  54.29664511, -38.06800665,  10.27881718,\n",
       "       -50.32546632, -20.1005704 , -24.5647488 , -62.75337982,\n",
       "        40.71814173,  63.97416659, -26.92843247, -58.5696116 ,\n",
       "       -28.79630294, -62.95861762,  74.08950386,   4.43883634,\n",
       "        44.34348717,  88.10641648,  34.56306743,  38.73421086,\n",
       "       -88.84267183,  40.3925979 ,   8.71016201,  35.23487664,\n",
       "       -79.14386156,  -0.27620773, -38.49290758,  42.86181791,\n",
       "       -63.94625895,  -2.57432216,  41.75710405,  68.92877077,\n",
       "       -38.17406014,  77.41071257,  30.91597153,  28.5026357 ,\n",
       "       -58.56939669,  19.23279531,  34.19962124, -81.60861289,\n",
       "       -78.58006865,  10.45481025, -69.55115269, -20.75350742,\n",
       "        84.33925029,  63.50300006])"
      ]
     },
     "execution_count": 11,
     "metadata": {},
     "output_type": "execute_result"
    }
   ],
   "source": [
    "np.random.uniform(-90.000, 90.000,size=50)"
   ]
  },
  {
   "cell_type": "code",
   "execution_count": 12,
   "id": "7e2e6147",
   "metadata": {},
   "outputs": [],
   "source": [
    "import timeit"
   ]
  },
  {
   "cell_type": "code",
   "execution_count": 13,
   "id": "94c7573e",
   "metadata": {},
   "outputs": [
    {
     "name": "stdout",
     "output_type": "stream",
     "text": [
      "13.2 µs ± 213 ns per loop (mean ± std. dev. of 7 runs, 100000 loops each)\n"
     ]
    }
   ],
   "source": [
    "%timeit np.random.uniform(-90.000, 90.000, size=1500)"
   ]
  },
  {
   "cell_type": "code",
   "execution_count": 14,
   "id": "ebcfbf58",
   "metadata": {},
   "outputs": [
    {
     "name": "stdout",
     "output_type": "stream",
     "text": [
      "1.85 ms ± 61.2 µs per loop (mean ± std. dev. of 7 runs, 1000 loops each)\n"
     ]
    }
   ],
   "source": [
    "def latitudes(size):\n",
    "    latitudes=[]\n",
    "    x=0\n",
    "    while x<(size):\n",
    "        random_lat = random.randint(-90,90)+random.random()\n",
    "        latitudes.append(random_lat)\n",
    "        x+=1\n",
    "%timeit latitudes(1500)\n",
    "        "
   ]
  },
  {
   "cell_type": "code",
   "execution_count": 15,
   "id": "1732c8d5",
   "metadata": {},
   "outputs": [
    {
     "data": {
      "text/plain": [
       "array([62.55346463, 78.93777398, 14.25476625, ..., 59.66563386,\n",
       "       54.76954315, 49.29671228])"
      ]
     },
     "execution_count": 15,
     "metadata": {},
     "output_type": "execute_result"
    }
   ],
   "source": [
    "np.random.uniform(-90.000, 90.000, size=1500)"
   ]
  },
  {
   "cell_type": "code",
   "execution_count": null,
   "id": "57c56f14",
   "metadata": {},
   "outputs": [],
   "source": []
  }
 ],
 "metadata": {
  "kernelspec": {
   "display_name": "PythonData",
   "language": "python",
   "name": "pythondata"
  },
  "language_info": {
   "codemirror_mode": {
    "name": "ipython",
    "version": 3
   },
   "file_extension": ".py",
   "mimetype": "text/x-python",
   "name": "python",
   "nbconvert_exporter": "python",
   "pygments_lexer": "ipython3",
   "version": "3.7.11"
  }
 },
 "nbformat": 4,
 "nbformat_minor": 5
}
